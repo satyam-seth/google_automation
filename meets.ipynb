{
 "cells": [
  {
   "cell_type": "code",
   "execution_count": null,
   "metadata": {},
   "outputs": [],
   "source": [
    "import json\n",
    "from pyppeteer import launch"
   ]
  },
  {
   "cell_type": "code",
   "execution_count": null,
   "metadata": {},
   "outputs": [],
   "source": [
    "with open('link.txt') as f:\n",
    "    link=f.read()\n",
    "    \n",
    "with open('msg.txt') as f:\n",
    "    msg=f.read()"
   ]
  },
  {
   "cell_type": "code",
   "execution_count": null,
   "metadata": {},
   "outputs": [],
   "source": [
    "# browser = await launch({'headless': False,'slowMo':15})\n",
    "browser = await launch(headless=False , slowMo = 20, executablePath='C:\\\\Program Files\\\\Google\\\\Chrome\\\\Application\\\\chrome.exe',args=['--use-fake-ui-for-media-stream','--use-file-for-fake-video-capture'])\n",
    "\n",
    "page = await browser.newPage()\n",
    "await page.setViewport({ 'width': 1280, 'height': 800 })\n",
    "\n",
    "with open('meet.google.com.cookies.json') as data_file:\n",
    "    data_loaded = json.load(data_file)\n",
    "\n",
    "for cookie in data_loaded:\n",
    "    await page.setCookie(cookie)\n",
    "\n",
    "await page.goto(link,{'timeout':0,'waitUntil':'domcontentloaded'})"
   ]
  },
  {
   "cell_type": "code",
   "execution_count": null,
   "metadata": {},
   "outputs": [],
   "source": [
    "await page.waitForXPath('/html/body/div[1]/c-wiz/div/div/div[9]/div[3]/div/div/div[3]/div/div/div[1]/div[1]/div[1]/div[4]/div[1]/div/div/div/span/span/div/div[1]/span[2]/svg')\n",
    "mic_btn=await page.xpath('/html/body/div[1]/c-wiz/div/div/div[9]/div[3]/div/div/div[3]/div/div/div[1]/div[1]/div[1]/div[4]/div[1]/div/div/div/span/span/div/div[1]/span[2]/svg')\n",
    "await mic_btn[0].click()\n",
    "\n",
    "cam_btn=await page.xpath('//*[@id=\"yDmH0d\"]/c-wiz/div/div/div[9]/div[3]/div/div/div[3]/div/div/div[1]/div[1]/div[1]/div[4]/div[2]/div/div')\n",
    "await cam_btn[0].click()\n",
    "\n",
    "join_btn=await page.xpath('//*[@id=\"yDmH0d\"]/c-wiz/div/div/div[9]/div[3]/div/div/div[3]/div/div/div[2]/div/div[2]/div/div[1]/div[1]/span/span')\n",
    "await join_btn[0].click()\n",
    "# await page.waitForNavigation()\n",
    "await page.waitFor(5000)"
   ]
  },
  {
   "cell_type": "code",
   "execution_count": null,
   "metadata": {},
   "outputs": [],
   "source": [
    "chat_btn=await page.xpath('//*[@id=\"ow3\"]/div[1]/div/div[9]/div[3]/div[10]/div[3]/div[3]/div/div/div[3]/span/button/i[1]')\n",
    "await chat_btn[0].click()\n",
    "\n",
    "await page.waitFor(2000)\n",
    "await page.type('#ow3 > div.T4LgNb > div > div:nth-child(9) > div.crqnQb > div.R3Gmyc.qwU8Me > div.WUFI9b > div.hWX4r > div > div.BC4V9b > div > div.RpC4Ne.oJeWuf > div.Pc9Gce.Wic03c > textarea',msg)\n",
    "\n",
    "send_btn=await page.xpath('//*[@id=\"ow3\"]/div[1]/div/div[9]/div[3]/div[4]/div[2]/div[2]/div/div[4]/span')\n",
    "await send_btn[0].click()\n",
    "\n",
    "await page.waitFor(10000)\n",
    "end_btn=await page.xpath('//*[@id=\"ow3\"]/div[1]/div/div[9]/div[3]/div[10]/div[2]/div/div[7]/span/button')\n"
   ]
  },
  {
   "cell_type": "code",
   "execution_count": null,
   "metadata": {},
   "outputs": [],
   "source": [
    "await end_btn[0].click()\n",
    "await page.waitFor(1000)\n",
    "await browser.close()"
   ]
  }
 ],
 "metadata": {
  "interpreter": {
   "hash": "8a6b46dc5875df5bd14ee49ddd15446272ed2ed0f7abbc928a513b9f234204df"
  },
  "kernelspec": {
   "display_name": "Python 3.9.7 64-bit",
   "name": "python3"
  },
  "language_info": {
   "codemirror_mode": {
    "name": "ipython",
    "version": 3
   },
   "file_extension": ".py",
   "mimetype": "text/x-python",
   "name": "python",
   "nbconvert_exporter": "python",
   "pygments_lexer": "ipython3",
   "version": "3.10.0"
  },
  "orig_nbformat": 4
 },
 "nbformat": 4,
 "nbformat_minor": 2
}
